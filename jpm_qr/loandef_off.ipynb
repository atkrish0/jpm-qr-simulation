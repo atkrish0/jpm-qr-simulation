{
 "cells": [
  {
   "cell_type": "code",
   "execution_count": 2,
   "metadata": {},
   "outputs": [],
   "source": [
    "from sklearn.linear_model import LogisticRegression\n",
    "from sklearn import metrics\n",
    "import numpy as np\n",
    "import pandas as pd\n",
    "from math import log\n",
    "import os"
   ]
  },
  {
   "cell_type": "code",
   "execution_count": 3,
   "metadata": {},
   "outputs": [],
   "source": [
    "# DESC:\n",
    "# 1. Calculate the probability of default of the borrower\n",
    "# 2. Classify the FICO scores data using logistic regression"
   ]
  },
  {
   "cell_type": "code",
   "execution_count": 4,
   "metadata": {},
   "outputs": [
    {
     "name": "stdout",
     "output_type": "stream",
     "text": [
      "[[ 8.18520373  0.54490854  0.01994244 -2.77630853 -0.02418391]] [-0.09162643]\n",
      "0.0037\n",
      "0.9925106069101026\n"
     ]
    }
   ],
   "source": [
    "# Read in loan data from a CSV file\n",
    "df = pd.read_csv('Loan_Data.csv')\n",
    "\n",
    "# Define the variable features\n",
    "features = ['credit_lines_outstanding', 'debt_to_income', 'payment_to_income', 'years_employed', 'fico_score']\n",
    "\n",
    "# Calculate the payment_to_income ratio\n",
    "df['payment_to_income'] = df['loan_amt_outstanding'] / df['income']\n",
    "\n",
    "# Calculate the debt_to_income ratio\n",
    "df['debt_to_income'] = df['total_debt_outstanding'] / df['income']\n",
    "\n",
    "clf = LogisticRegression(random_state=0, solver='liblinear', tol=1e-5, max_iter=10000).fit(df[features], df['default'])\n",
    "\n",
    "print(clf.coef_, clf.intercept_)\n",
    "\n",
    "# Use the following code to check yourself\n",
    "y_pred = clf.predict(df[features])\n",
    "fpr, tpr, thresholds = metrics.roc_curve(df['default'], y_pred)\n",
    "\n",
    "print((1.0*(abs(df['default']-y_pred)).sum()) / len(df))\n",
    "print(metrics.auc(fpr, tpr))"
   ]
  },
  {
   "cell_type": "code",
   "execution_count": 6,
   "metadata": {},
   "outputs": [
    {
     "name": "stdout",
     "output_type": "stream",
     "text": [
      "10000 10000\n",
      "-4217.8245\n",
      "[850, 753, 752, 732, 696, 649, 611, 580, 552, 520, 300]\n"
     ]
    }
   ],
   "source": [
    "x = df['default'].to_list()\n",
    "y = df['fico_score'].to_list()\n",
    "n = len(x)\n",
    "\n",
    "print (len(x), len(y))\n",
    "\n",
    "default = [0 for i in range(851)]\n",
    "total = [0 for i in range(851)]\n",
    "\n",
    "for i in range(n):\n",
    "    y[i] = int(y[i])\n",
    "    default[y[i]-300] += x[i]\n",
    "    total[y[i]-300] += 1\n",
    "\n",
    "for i in range(0, 551):\n",
    "    default[i] += default[i-1]\n",
    "    total[i] += total[i-1]\n",
    "\n",
    "def log_likelihood(n, k):\n",
    "    p = k/n\n",
    "    if (p==0 or p==1):\n",
    "        return 0\n",
    "    return k*np.log(p)+ (n-k)*np.log(1-p)\n",
    "\n",
    "r = 10\n",
    "\n",
    "dp = [[[-10**18, 0] for i in range(551)] for j in range(r+1)]\n",
    "\n",
    "for i in range(r+1):\n",
    "    for j in range(551):\n",
    "        if (i==0):\n",
    "            dp[i][j][0] = 0\n",
    "        else:\n",
    "            for k in range(j):\n",
    "                if (total[j]==total[k]):\n",
    "                    continue\n",
    "                if (i==1):\n",
    "                    dp[i][j][0] = log_likelihood(total[j], default[j])\n",
    "                else:\n",
    "                    if (dp[i][j][0] < (dp[i-1][k][0] + log_likelihood(total[j]-total[k], default[j] - default[k]))):\n",
    "                        dp[i][j][0] = log_likelihood(total[j]-total[k], default[j]-default[k]) + dp[i-1][k][0]\n",
    "                        dp[i][j][1] = k\n",
    "\n",
    "print (round(dp[r][550][0], 4))\n",
    "\n",
    "k = 550\n",
    "l = []\n",
    "\n",
    "while r >= 0:\n",
    "    l.append(k+300)\n",
    "    k = dp[r][k][1]\n",
    "    r -= 1\n",
    "\n",
    "print(l)"
   ]
  },
  {
   "cell_type": "code",
   "execution_count": null,
   "metadata": {},
   "outputs": [],
   "source": [
    "# # The provided code performs data analysis by calculating the probability of default for a given set of observations. \n",
    "# The technique used for this analysis is maximum likelihood estimation. \n",
    "# The intuition behind the usage of maximum likelihood estimation is that it is a common method for \n",
    "# estimating the parameters of a statistical model. In this case, the parameters are the probabilities of \n",
    "# default for different sets of observations. Maximum likelihood estimation seeks to find the parameter values \n",
    "# that maximize the likelihood function for the observed data.\n",
    "\n",
    "# # The code first reads in a CSV file using Pandas. It then creates two lists, x and y, that correspond to \n",
    "# the 'observation' and 'rank' columns in the data, respectively. These lists are then used to calculate the \n",
    "# default and total values for each rank in the data.\n",
    "\n",
    "# # The log-likelihood function is defined to calculate the likelihood of a given set of parameters. The likelihood \n",
    "# function is used to calculate the probability of observing the data given the parameter values. The code then initializes \n",
    "# a three-dimensional array, dp, that is used to store the calculated log-likelihood values for different sets of observations. \n",
    "# The first dimension represents the number of iterations performed, the second dimension represents the rank of the observation, \n",
    "# and the third dimension represents the log-likelihood and the index of the previous observation.\n",
    "\n",
    "# # Finally, the code calculates the log-likelihood for the given data set by using the dp array. \n",
    "# It then prints the results and outputs the indices of the observations that were used in the calculation."
   ]
  }
 ],
 "metadata": {
  "kernelspec": {
   "display_name": "base",
   "language": "python",
   "name": "python3"
  },
  "language_info": {
   "codemirror_mode": {
    "name": "ipython",
    "version": 3
   },
   "file_extension": ".py",
   "mimetype": "text/x-python",
   "name": "python",
   "nbconvert_exporter": "python",
   "pygments_lexer": "ipython3",
   "version": "3.11.5"
  }
 },
 "nbformat": 4,
 "nbformat_minor": 2
}
